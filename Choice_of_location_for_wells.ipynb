{
 "cells": [
  {
   "cell_type": "markdown",
   "metadata": {},
   "source": [
    "# Выбор локации для скважины"
   ]
  },
  {
   "cell_type": "markdown",
   "metadata": {},
   "source": [
    "Вы работаете в добывающей компании «ГлавРосГосНефть». Нужно решить, где бурить новую скважину.\n",
    "\n",
    "Вам предоставлены пробы нефти в трёх регионах: в каждом 10 000 месторождений, где измерили качество нефти и объём её запасов. Постройте модель машинного обучения, которая поможет определить регион, где добыча принесёт наибольшую прибыль. Проанализируйте возможную прибыль и риски техникой *Bootstrap.*"
   ]
  },
  {
   "cell_type": "markdown",
   "metadata": {},
   "source": [
    "Первым делом рассмотрим данные, проверим их на пропуски, дубликаты и корреляцию. Далее обучим данные моделью линейной регрессии и проверим для каждой среднеквадратическую ошибку. Затем рассчитаем достаточных объем сырья для безубыточной разработки новой скважины и сравним полученный объём со средним запасом в каждом регионе. После чего напишем функцию для расчета прибыли и в итоге посчитаем прибыль и риски для каждого региона и по этим результатам выберем лучший регион."
   ]
  },
  {
   "cell_type": "markdown",
   "metadata": {},
   "source": [
    "## 1 Загрузка данных"
   ]
  },
  {
   "cell_type": "code",
   "execution_count": 1,
   "metadata": {},
   "outputs": [],
   "source": [
    "import pandas as pd\n",
    "import numpy as np\n",
    "import scipy.stats as st\n",
    "import seaborn\n",
    "import matplotlib.pyplot as plt\n",
    "from sklearn.linear_model import LinearRegression\n",
    "from sklearn.metrics import mean_squared_error\n",
    "from sklearn.model_selection import train_test_split\n",
    "from sklearn.preprocessing import MinMaxScaler\n",
    "from sklearn.preprocessing import StandardScaler\n",
    "import warnings\n",
    "warnings.filterwarnings(\"ignore\")"
   ]
  },
  {
   "cell_type": "code",
   "execution_count": 2,
   "metadata": {},
   "outputs": [],
   "source": [
    "BUDGET = 10*10**9\n",
    "INCOME_ONE = 450000\n",
    "POINTS = 200"
   ]
  },
  {
   "cell_type": "code",
   "execution_count": 3,
   "metadata": {},
   "outputs": [],
   "source": [
    "try:\n",
    "    data1 = pd.read_csv('C:/Users/klimatutti/Downloads/geo_data_0.csv')\n",
    "    data2 = pd.read_csv('C:/Users/klimatutti/Downloads/geo_data_1.csv')\n",
    "    data3 = pd.read_csv('C:/Users/klimatutti/Downloads/geo_data_2.csv')\n",
    "except:\n",
    "    data1 = pd.read_csv('/datasets/geo_data_0.csv')\n",
    "    data2 = pd.read_csv('/datasets/geo_data_1.csv')\n",
    "    data3 = pd.read_csv('/datasets/geo_data_2.csv')"
   ]
  },
  {
   "cell_type": "markdown",
   "metadata": {},
   "source": [
    "**Рассмотрим первые три строки в любом датасете и изучим общую информацию по каждому.**"
   ]
  },
  {
   "cell_type": "code",
   "execution_count": 4,
   "metadata": {},
   "outputs": [
    {
     "data": {
      "text/html": [
       "<div>\n",
       "<style scoped>\n",
       "    .dataframe tbody tr th:only-of-type {\n",
       "        vertical-align: middle;\n",
       "    }\n",
       "\n",
       "    .dataframe tbody tr th {\n",
       "        vertical-align: top;\n",
       "    }\n",
       "\n",
       "    .dataframe thead th {\n",
       "        text-align: right;\n",
       "    }\n",
       "</style>\n",
       "<table border=\"1\" class=\"dataframe\">\n",
       "  <thead>\n",
       "    <tr style=\"text-align: right;\">\n",
       "      <th></th>\n",
       "      <th>id</th>\n",
       "      <th>f0</th>\n",
       "      <th>f1</th>\n",
       "      <th>f2</th>\n",
       "      <th>product</th>\n",
       "    </tr>\n",
       "  </thead>\n",
       "  <tbody>\n",
       "    <tr>\n",
       "      <th>0</th>\n",
       "      <td>txEyH</td>\n",
       "      <td>0.705745</td>\n",
       "      <td>-0.497823</td>\n",
       "      <td>1.221170</td>\n",
       "      <td>105.280062</td>\n",
       "    </tr>\n",
       "    <tr>\n",
       "      <th>1</th>\n",
       "      <td>2acmU</td>\n",
       "      <td>1.334711</td>\n",
       "      <td>-0.340164</td>\n",
       "      <td>4.365080</td>\n",
       "      <td>73.037750</td>\n",
       "    </tr>\n",
       "    <tr>\n",
       "      <th>2</th>\n",
       "      <td>409Wp</td>\n",
       "      <td>1.022732</td>\n",
       "      <td>0.151990</td>\n",
       "      <td>1.419926</td>\n",
       "      <td>85.265647</td>\n",
       "    </tr>\n",
       "  </tbody>\n",
       "</table>\n",
       "</div>"
      ],
      "text/plain": [
       "      id        f0        f1        f2     product\n",
       "0  txEyH  0.705745 -0.497823  1.221170  105.280062\n",
       "1  2acmU  1.334711 -0.340164  4.365080   73.037750\n",
       "2  409Wp  1.022732  0.151990  1.419926   85.265647"
      ]
     },
     "execution_count": 4,
     "metadata": {},
     "output_type": "execute_result"
    }
   ],
   "source": [
    "data1.head(3)"
   ]
  },
  {
   "cell_type": "markdown",
   "metadata": {},
   "source": [
    "**Так как все манипуляции необходимо провести со всеми тремя датасетами, для каждой задачи создадим функцию.**"
   ]
  },
  {
   "cell_type": "code",
   "execution_count": 5,
   "metadata": {},
   "outputs": [],
   "source": [
    "def info(data):\n",
    "    print('Размер данных:', data.shape)\n",
    "    print('Общая информация о данных:', data.info())\n",
    "    print('Количество пропусков:', data.isna().sum())\n",
    "    print('Количество дубликатов:', data.duplicated().sum())\n",
    "    print('Диаграмма корреляции данных', seaborn.heatmap(data.corr(), annot=True, square=True))\n",
    "    plt.show()\n",
    "    print('Распределение данных')\n",
    "    data[[\"f0\",\"f1\",\"f2\"]].hist()\n",
    "    plt.show()"
   ]
  },
  {
   "cell_type": "code",
   "execution_count": 6,
   "metadata": {},
   "outputs": [
    {
     "name": "stdout",
     "output_type": "stream",
     "text": [
      "Размер данных: (100000, 5)\n",
      "<class 'pandas.core.frame.DataFrame'>\n",
      "RangeIndex: 100000 entries, 0 to 99999\n",
      "Data columns (total 5 columns):\n",
      " #   Column   Non-Null Count   Dtype  \n",
      "---  ------   --------------   -----  \n",
      " 0   id       100000 non-null  object \n",
      " 1   f0       100000 non-null  float64\n",
      " 2   f1       100000 non-null  float64\n",
      " 3   f2       100000 non-null  float64\n",
      " 4   product  100000 non-null  float64\n",
      "dtypes: float64(4), object(1)\n",
      "memory usage: 3.8+ MB\n",
      "Общая информация о данных: None\n",
      "Количество пропусков: id         0\n",
      "f0         0\n",
      "f1         0\n",
      "f2         0\n",
      "product    0\n",
      "dtype: int64\n",
      "Количество дубликатов: 0\n",
      "Диаграмма корреляции данных AxesSubplot(0.241667,0.125;0.503333x0.755)\n"
     ]
    },
    {
     "data": {
      "image/png": "[encoded data removed]",
      "text/plain": [
       "<Figure size 432x288 with 2 Axes>"
      ]
     },
     "metadata": {
      "needs_background": "light"
     },
     "output_type": "display_data"
    },
    {
     "name": "stdout",
     "output_type": "stream",
     "text": [
      "Распределение данных\n"
     ]
    },
    {
     "data": {
      "image/png": "[encoded data removed]",
      "text/plain": [
       "<Figure size 432x288 with 4 Axes>"
      ]
     },
     "metadata": {
      "needs_background": "light"
     },
     "output_type": "display_data"
    }
   ],
   "source": [
    "info(data1)"
   ]
  },
  {
   "cell_type": "code",
   "execution_count": 7,
   "metadata": {},
   "outputs": [
    {
     "name": "stdout",
     "output_type": "stream",
     "text": [
      "Размер данных: (100000, 5)\n",
      "<class 'pandas.core.frame.DataFrame'>\n",
      "RangeIndex: 100000 entries, 0 to 99999\n",
      "Data columns (total 5 columns):\n",
      " #   Column   Non-Null Count   Dtype  \n",
      "---  ------   --------------   -----  \n",
      " 0   id       100000 non-null  object \n",
      " 1   f0       100000 non-null  float64\n",
      " 2   f1       100000 non-null  float64\n",
      " 3   f2       100000 non-null  float64\n",
      " 4   product  100000 non-null  float64\n",
      "dtypes: float64(4), object(1)\n",
      "memory usage: 3.8+ MB\n",
      "Общая информация о данных: None\n",
      "Количество пропусков: id         0\n",
      "f0         0\n",
      "f1         0\n",
      "f2         0\n",
      "product    0\n",
      "dtype: int64\n",
      "Количество дубликатов: 0\n",
      "Диаграмма корреляции данных AxesSubplot(0.241667,0.125;0.503333x0.755)\n"
     ]
    },
    {
     "data": {
      "image/png": "[encoded data removed]",
      "text/plain": [
       "<Figure size 432x288 with 2 Axes>"
      ]
     },
     "metadata": {
      "needs_background": "light"
     },
     "output_type": "display_data"
    },
    {
     "name": "stdout",
     "output_type": "stream",
     "text": [
      "Распределение данных\n"
     ]
    },
    {
     "data": {
      "image/png": "[encoded data removed]",
      "text/plain": [
       "<Figure size 432x288 with 4 Axes>"
      ]
     },
     "metadata": {
      "needs_background": "light"
     },
     "output_type": "display_data"
    }
   ],
   "source": [
    "info(data2)"
   ]
  },
  {
   "cell_type": "code",
   "execution_count": 8,
   "metadata": {},
   "outputs": [
    {
     "name": "stdout",
     "output_type": "stream",
     "text": [
      "Размер данных: (100000, 5)\n",
      "<class 'pandas.core.frame.DataFrame'>\n",
      "RangeIndex: 100000 entries, 0 to 99999\n",
      "Data columns (total 5 columns):\n",
      " #   Column   Non-Null Count   Dtype  \n",
      "---  ------   --------------   -----  \n",
      " 0   id       100000 non-null  object \n",
      " 1   f0       100000 non-null  float64\n",
      " 2   f1       100000 non-null  float64\n",
      " 3   f2       100000 non-null  float64\n",
      " 4   product  100000 non-null  float64\n",
      "dtypes: float64(4), object(1)\n",
      "memory usage: 3.8+ MB\n",
      "Общая информация о данных: None\n",
      "Количество пропусков: id         0\n",
      "f0         0\n",
      "f1         0\n",
      "f2         0\n",
      "product    0\n",
      "dtype: int64\n",
      "Количество дубликатов: 0\n",
      "Диаграмма корреляции данных AxesSubplot(0.241667,0.125;0.503333x0.755)\n"
     ]
    },
    {
     "data": {
      "image/png": "[encoded data removed]",
      "text/plain": [
       "<Figure size 432x288 with 2 Axes>"
      ]
     },
     "metadata": {
      "needs_background": "light"
     },
     "output_type": "display_data"
    },
    {
     "name": "stdout",
     "output_type": "stream",
     "text": [
      "Распределение данных\n"
     ]
    },
    {
     "data": {
      "image/png": "[encoded data removed]",
      "text/plain": [
       "<Figure size 432x288 with 4 Axes>"
      ]
     },
     "metadata": {
      "needs_background": "light"
     },
     "output_type": "display_data"
    }
   ],
   "source": [
    "info(data3)"
   ]
  },
  {
   "cell_type": "markdown",
   "metadata": {},
   "source": [
    "**В каждом из регионов не наблюдается пропусков, дубликатов. При рассмотрении матрицы корреляции можно заметить зависимость между значениями в стобце `f2` и `product` - объем запасов в скважине. Данные в общем ненормально распределены.**"
   ]
  },
  {
   "cell_type": "markdown",
   "metadata": {},
   "source": [
    "Так как названия столбцов, типы данных записаны правильно, а также нет необходимости избавлятся от пропусков и дубликатов, перейдем к обучению модели."
   ]
  },
  {
   "cell_type": "markdown",
   "metadata": {},
   "source": [
    "## Обучение и проверка модели"
   ]
  },
  {
   "cell_type": "markdown",
   "metadata": {},
   "source": [
    "**Создадим функцию `learn_check_model`, которая на вход принимает датасет. Данная функция определяет признаки и целевой признак, делит данные на обучающую и валидационную выборки, стандартизирует их, обучает по этим данным модель Линейной регрессии и рассчитывает среднеквадратическую ошибку.**"
   ]
  },
  {
   "cell_type": "code",
   "execution_count": 11,
   "metadata": {},
   "outputs": [],
   "source": [
    "state = np.random.RandomState(12345)\n",
    "def learn_check_model(data):\n",
    "    features = data.drop(['id', 'product'], axis=1)\n",
    "    target = data['product']\n",
    "    features_train, features_valid, target_train, target_valid = train_test_split(\n",
    "        features, target, test_size=0.25, random_state=state)\n",
    "    scaler = MinMaxScaler()\n",
    "    features_train = scaler.fit_transform(features_train)\n",
    "    features_valid = scaler.transform(features_valid)\n",
    "    model = LinearRegression()\n",
    "    model.fit(features_train, target_train)\n",
    "    predictions = pd.Series(model.predict(features_valid))\n",
    "    rmse = (mean_squared_error(predictions, target_valid)) ** 0.5\n",
    "    mean = sum(predictions) / len(predictions)\n",
    "    print('Среднеквадратическая ошибка:', rmse)\n",
    "    print('Средний запас предсказанного сырья', mean)\n",
    "    return (predictions, target_valid.reset_index(drop=True), rmse)"
   ]
  },
  {
   "cell_type": "markdown",
   "metadata": {},
   "source": [
    "Применим функцию к трем датасетам"
   ]
  },
  {
   "cell_type": "code",
   "execution_count": 12,
   "metadata": {},
   "outputs": [
    {
     "name": "stdout",
     "output_type": "stream",
     "text": [
      "Среднеквадратическая ошибка: 37.5794217150813\n",
      "Средний запас предсказанного сырья 92.59256778438008\n",
      "\n",
      "\n",
      "Среднеквадратическая ошибка: 0.8897367737680649\n",
      "Средний запас предсказанного сырья 68.76995145799782\n",
      "\n",
      "\n",
      "Среднеквадратическая ошибка: 39.958042459521614\n",
      "Средний запас предсказанного сырья 95.08752812252328\n",
      "\n",
      "\n"
     ]
    }
   ],
   "source": [
    "for i in [data1, data2, data3]:\n",
    "    learn_check_model(i)\n",
    "    \n",
    "    print(\"\\n\")"
   ]
  },
  {
   "cell_type": "markdown",
   "metadata": {},
   "source": [
    "**Слишком большую среднеквадратическую ошибку имеют регион 1 и регион 3 - почти 40.**"
   ]
  },
  {
   "cell_type": "markdown",
   "metadata": {},
   "source": [
    "Сохраним данные для дальнейших рассчетов"
   ]
  },
  {
   "cell_type": "code",
   "execution_count": 13,
   "metadata": {},
   "outputs": [
    {
     "name": "stdout",
     "output_type": "stream",
     "text": [
      "Среднеквадратическая ошибка: 37.57951548534859\n",
      "Средний запас предсказанного сырья 92.66386568661606\n",
      "Среднеквадратическая ошибка: 0.8904163214946189\n",
      "Средний запас предсказанного сырья 69.22345150014002\n",
      "Среднеквадратическая ошибка: 40.02938636981283\n",
      "Средний запас предсказанного сырья 95.04953599535948\n"
     ]
    }
   ],
   "source": [
    "predictions1, validation1, rmse1 = learn_check_model(data1)\n",
    "predictions2, validation2, rmse2 = learn_check_model(data2)\n",
    "predictions3, validation3, rmse3 = learn_check_model(data3)"
   ]
  },
  {
   "cell_type": "markdown",
   "metadata": {},
   "source": [
    "## Подготовка к расчёту прибыли"
   ]
  },
  {
   "cell_type": "markdown",
   "metadata": {},
   "source": [
    "По условию задачи бюджет равен 10 млрд., доход с каждой единицы - 450000. \n",
    "\n",
    "Рассчитаем достаточный объем сырья и средний объем запасов в скважине каждого региона."
   ]
  },
  {
   "cell_type": "code",
   "execution_count": 14,
   "metadata": {},
   "outputs": [
    {
     "name": "stdout",
     "output_type": "stream",
     "text": [
      "Для безубыточной разработки новой скважины достаточный объем сырья равен не менее 112 тысяч баррелей \n",
      "\n",
      "Регион 1: 93 тысяч баррелей\n",
      "Регион 2: 69 тысяч баррелей\n",
      "Регион 3: 95 тысяч баррелей\n"
     ]
    }
   ],
   "source": [
    "size = BUDGET / INCOME_ONE / POINTS\n",
    "\n",
    "print('Для безубыточной разработки новой скважины достаточный объем сырья равен не менее', round(size + 1), 'тысяч баррелей \\n')\n",
    "print('Регион 1:', round(data1['product'].mean()), 'тысяч баррелей')\n",
    "print('Регион 2:', round(data2['product'].mean()), 'тысяч баррелей')\n",
    "print('Регион 3:', round(data3['product'].mean()), 'тысяч баррелей')"
   ]
  },
  {
   "cell_type": "markdown",
   "metadata": {},
   "source": [
    "Одна скважина должна содержать не менее 112 тысяч баррелей, а средний объем в каждом регионе меньше этого значения."
   ]
  },
  {
   "cell_type": "markdown",
   "metadata": {},
   "source": [
    "**Создадим функцию для рассчета прибыли**"
   ]
  },
  {
   "cell_type": "code",
   "execution_count": 15,
   "metadata": {},
   "outputs": [],
   "source": [
    "def income(predictions, target):\n",
    "    predictions_sort = predictions.sort_values(ascending=False)\n",
    "    target_sort = target[predictions_sort.index][:POINTS]\n",
    "    price = target_sort.sum() * INCOME_ONE\n",
    "    return price - BUDGET"
   ]
  },
  {
   "cell_type": "markdown",
   "metadata": {},
   "source": [
    "## Расчёт прибыли и рисков "
   ]
  },
  {
   "cell_type": "markdown",
   "metadata": {},
   "source": [
    "**Создадим функцию рассчета рисков**\n",
    "\n",
    "Применим технику Bootstrap с 1000 выборок. Выберем 500 точек и применим функцию рассчета прибыли, в которой мы и отберем 200 точек. Затем посчитаем 95% доверительный интервал, среднюю прибыль каждого региона и значение риска убытков"
   ]
  },
  {
   "cell_type": "code",
   "execution_count": 16,
   "metadata": {},
   "outputs": [],
   "source": [
    "def income_risk(predictions, target):\n",
    "    revenue = []\n",
    "    for _ in range(1000):\n",
    "        target_sample = target.sample(500, replace=True, random_state=state)\n",
    "        predictions_sample = predictions[target_sample.index]\n",
    "        revenue.append(income(predictions_sample, target_sample)) \n",
    "        \n",
    "    lower = int(np.percentile(revenue, 2.5))\n",
    "    higher = int(np.percentile(revenue, 97.5))\n",
    "    mean_revenue = int(sum(revenue) / len(revenue))\n",
    "    risk = st.percentileofscore(revenue, 0)\n",
    "    return ((lower, higher), mean_revenue, risk)"
   ]
  },
  {
   "cell_type": "markdown",
   "metadata": {},
   "source": [
    "**Применим функции к сохраненным ранее данным.**"
   ]
  },
  {
   "cell_type": "code",
   "execution_count": 17,
   "metadata": {},
   "outputs": [
    {
     "name": "stdout",
     "output_type": "stream",
     "text": [
      "Средняя прибыль: 429391603\n",
      "95% доверительный интервал: (-84479358, 937137724)\n",
      "Риск убытков: 5.300000000000001\n",
      "\n",
      "\n",
      "Средняя прибыль: 545654352\n",
      "95% доверительный интервал: (163077982, 976343911)\n",
      "Риск убытков: 0.2\n",
      "\n",
      "\n",
      "Средняя прибыль: 432511156\n",
      "95% доверительный интервал: (-153555072, 967178973)\n",
      "Риск убытков: 6.4\n",
      "\n",
      "\n"
     ]
    }
   ],
   "source": [
    "for preds, target in zip([predictions1, predictions2, predictions3], [validation1, validation2, validation3]):\n",
    "    interval, mean_revenue, risk = income_risk(preds, target)\n",
    "    print('Средняя прибыль:', mean_revenue)\n",
    "    print('95% доверительный интервал:', interval)\n",
    "    print('Риск убытков:', risk)\n",
    "    print('\\n')"
   ]
  },
  {
   "cell_type": "markdown",
   "metadata": {},
   "source": [
    "**Таким образом, регион 1 и регион 3 показали наименьшую прибыль и наибольший риск убытков. Поэтому предлагается регион 2, так как он имеет наибольшую прибыль и наименьший риск убытков.**"
   ]
  },
  {
   "cell_type": "markdown",
   "metadata": {},
   "source": [
    "## Вывод"
   ]
  },
  {
   "cell_type": "markdown",
   "metadata": {},
   "source": [
    "В данной работе были проделаны следующие шаги:\n",
    "\n",
    "- Изучены и проверены на пропуски, дубликаты и зависимости данные;\n",
    "- Создана функция, которая делит данные на выборки, стандартизирует их и обучает по ним модель. По модели для каждого региона рассчитана среднеквадратическая ошибка;\n",
    "Регион 1 и Регион 3 показали наибольшее значение среднеквадратической ошибки (почти 40).\n",
    "- Рассчитан достаточный объём сырья для безубыточной разработки новой скважины и средний объем запасов в каждом регионе. Написана функция рассчета прибыли.\n",
    "Все регионы показали значение меньше достаточного.\n",
    "- Создана функция рассчета рисков, которая рассчитывает среднюю прибыль, 95% доверительный интервал и сам риск убытков."
   ]
  },
  {
   "cell_type": "markdown",
   "metadata": {},
   "source": [
    "**Финальное применение функций показало, что лучшим вариантом для бурения новой скважины является Регион 2, так как он показал наибольшую прибыль и наименьший риск убытков по сравнению с остальными регионами.**"
   ]
  }
 ],
 "metadata": {
  "ExecuteTimeLog": [
   {
    "duration": 2450,
    "start_time": "2023-03-23T06:02:00.310Z"
   },
   {
    "duration": 1923,
    "start_time": "2023-03-23T06:02:02.762Z"
   },
   {
    "duration": 17,
    "start_time": "2023-03-23T06:02:04.687Z"
   },
   {
    "duration": 5,
    "start_time": "2023-03-23T06:02:04.715Z"
   },
   {
    "duration": 788,
    "start_time": "2023-03-23T06:02:04.722Z"
   },
   {
    "duration": 805,
    "start_time": "2023-03-23T06:02:05.512Z"
   },
   {
    "duration": 729,
    "start_time": "2023-03-23T06:02:06.320Z"
   },
   {
    "duration": 6,
    "start_time": "2023-03-23T06:02:07.051Z"
   },
   {
    "duration": 446,
    "start_time": "2023-03-23T06:02:07.059Z"
   },
   {
    "duration": 526,
    "start_time": "2023-03-23T06:02:07.509Z"
   },
   {
    "duration": 72,
    "start_time": "2023-03-23T06:02:08.037Z"
   },
   {
    "duration": 92,
    "start_time": "2023-03-23T06:02:08.113Z"
   },
   {
    "duration": 7,
    "start_time": "2023-03-23T06:02:08.212Z"
   },
   {
    "duration": 4540,
    "start_time": "2023-03-23T06:02:08.221Z"
   },
   {
    "duration": 1658,
    "start_time": "2023-03-23T06:40:50.533Z"
   },
   {
    "duration": 3,
    "start_time": "2023-03-23T06:41:09.365Z"
   },
   {
    "duration": 1681,
    "start_time": "2023-03-23T06:41:12.362Z"
   },
   {
    "duration": 14,
    "start_time": "2023-03-23T06:41:18.822Z"
   },
   {
    "duration": 4,
    "start_time": "2023-03-23T06:41:27.144Z"
   },
   {
    "duration": 762,
    "start_time": "2023-03-23T06:41:28.261Z"
   },
   {
    "duration": 756,
    "start_time": "2023-03-23T06:41:29.379Z"
   },
   {
    "duration": 712,
    "start_time": "2023-03-23T06:41:30.137Z"
   },
   {
    "duration": 5,
    "start_time": "2023-03-23T06:42:05.940Z"
   },
   {
    "duration": 370,
    "start_time": "2023-03-23T06:42:11.007Z"
   },
   {
    "duration": 7,
    "start_time": "2023-03-23T06:46:02.759Z"
   },
   {
    "duration": 408,
    "start_time": "2023-03-23T06:46:15.964Z"
   },
   {
    "duration": 393,
    "start_time": "2023-03-23T06:46:27.184Z"
   },
   {
    "duration": 9,
    "start_time": "2023-03-23T06:46:35.655Z"
   },
   {
    "duration": 3,
    "start_time": "2023-03-23T06:47:34.405Z"
   },
   {
    "duration": 5,
    "start_time": "2023-03-23T06:47:38.922Z"
   },
   {
    "duration": 4155,
    "start_time": "2023-03-23T06:47:41.485Z"
   }
  ],
  "kernelspec": {
   "display_name": "Python 3 (ipykernel)",
   "language": "python",
   "name": "python3"
  },
  "language_info": {
   "codemirror_mode": {
    "name": "ipython",
    "version": 3
   },
   "file_extension": ".py",
   "mimetype": "text/x-python",
   "name": "python",
   "nbconvert_exporter": "python",
   "pygments_lexer": "ipython3",
   "version": "3.9.13"
  },
  "toc": {
   "base_numbering": 1,
   "nav_menu": {},
   "number_sections": true,
   "sideBar": true,
   "skip_h1_title": true,
   "title_cell": "Table of Contents",
   "title_sidebar": "Contents",
   "toc_cell": false,
   "toc_position": {},
   "toc_section_display": true,
   "toc_window_display": true
  }
 },
 "nbformat": 4,
 "nbformat_minor": 2
}
